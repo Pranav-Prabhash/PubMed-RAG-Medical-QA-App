{
 "cells": [
  {
   "cell_type": "code",
   "execution_count": 12,
   "id": "adfd4f23-1565-472e-bfdf-e8e93ed8042f",
   "metadata": {},
   "outputs": [
    {
     "name": "stdout",
     "output_type": "stream",
     "text": [
      "✅ Loaded 1500 texts, embeddings shape = (1500, 768)\n",
      "✅ FAISS index loaded, ntotal = 1500\n",
      "Loading retriever embedding model (PubMed/BioBERT) -- this may take a moment...\n"
     ]
    },
    {
     "name": "stderr",
     "output_type": "stream",
     "text": [
      "No sentence-transformers model found with name dmis-lab/biobert-base-cased-v1.1. Creating a new one with mean pooling.\n"
     ]
    },
    {
     "name": "stdout",
     "output_type": "stream",
     "text": [
      "Loading PubMedBERT QA model (extractive) -- CPU\n"
     ]
    },
    {
     "data": {
      "application/vnd.jupyter.widget-view+json": {
       "model_id": "058412fe1db240b5885762759c8ff6d2",
       "version_major": 2,
       "version_minor": 0
      },
      "text/plain": [
       "tokenizer_config.json:   0%|          | 0.00/28.0 [00:00<?, ?B/s]"
      ]
     },
     "metadata": {},
     "output_type": "display_data"
    },
    {
     "name": "stderr",
     "output_type": "stream",
     "text": [
      "C:\\Users\\prana\\anaconda3\\Lib\\site-packages\\huggingface_hub\\file_download.py:143: UserWarning: `huggingface_hub` cache-system uses symlinks by default to efficiently store duplicated files but your machine does not support them in C:\\Users\\prana\\.cache\\huggingface\\hub\\models--microsoft--BiomedNLP-PubMedBERT-base-uncased-abstract. Caching files will still work but in a degraded version that might require more space on your disk. This warning can be disabled by setting the `HF_HUB_DISABLE_SYMLINKS_WARNING` environment variable. For more details, see https://huggingface.co/docs/huggingface_hub/how-to-cache#limitations.\n",
      "To support symlinks on Windows, you either need to activate Developer Mode or to run Python as an administrator. In order to activate developer mode, see this article: https://docs.microsoft.com/en-us/windows/apps/get-started/enable-your-device-for-development\n",
      "  warnings.warn(message)\n"
     ]
    },
    {
     "data": {
      "application/vnd.jupyter.widget-view+json": {
       "model_id": "62368e4e8e86435994b828b3fb2e99a7",
       "version_major": 2,
       "version_minor": 0
      },
      "text/plain": [
       "config.json:   0%|          | 0.00/385 [00:00<?, ?B/s]"
      ]
     },
     "metadata": {},
     "output_type": "display_data"
    },
    {
     "data": {
      "application/vnd.jupyter.widget-view+json": {
       "model_id": "83bfaa5d93f144cd894c406aaa77d3c0",
       "version_major": 2,
       "version_minor": 0
      },
      "text/plain": [
       "vocab.txt: 0.00B [00:00, ?B/s]"
      ]
     },
     "metadata": {},
     "output_type": "display_data"
    },
    {
     "name": "stderr",
     "output_type": "stream",
     "text": [
      "Xet Storage is enabled for this repo, but the 'hf_xet' package is not installed. Falling back to regular HTTP download. For better performance, install the package with: `pip install huggingface_hub[hf_xet]` or `pip install hf_xet`\n"
     ]
    },
    {
     "data": {
      "application/vnd.jupyter.widget-view+json": {
       "model_id": "affaa3920b774e4d997acd80630aadd7",
       "version_major": 2,
       "version_minor": 0
      },
      "text/plain": [
       "pytorch_model.bin:   0%|          | 0.00/440M [00:00<?, ?B/s]"
      ]
     },
     "metadata": {},
     "output_type": "display_data"
    },
    {
     "name": "stderr",
     "output_type": "stream",
     "text": [
      "Some weights of BertForQuestionAnswering were not initialized from the model checkpoint at microsoft/BiomedNLP-PubMedBERT-base-uncased-abstract and are newly initialized: ['qa_outputs.bias', 'qa_outputs.weight']\n",
      "You should probably TRAIN this model on a down-stream task to be able to use it for predictions and inference.\n",
      "Device set to use cpu\n"
     ]
    },
    {
     "name": "stdout",
     "output_type": "stream",
     "text": [
      "✅ Models loaded.\n",
      "\n",
      "🎯 PubMed extractive QA ready (CPU). Type a question or 'exit' to quit.\n",
      "\n"
     ]
    },
    {
     "name": "stdin",
     "output_type": "stream",
     "text": [
      "🔎 Question:  diabetes symptoms?\n"
     ]
    },
    {
     "name": "stdout",
     "output_type": "stream",
     "text": [
      "\n",
      "Retrieved (doc_index, distance): [(437, 64.7103), (1134, 64.836), (1219, 64.836), (281, 64.9399), (910, 64.9399)]\n",
      "\n",
      "⚠️ No confident extractive answer found. Showing top retrieved snippets for manual inspection:\n",
      "\n",
      "--- Doc 437 (dist=64.710) ---\n",
      "1. Int J Mol Sci. 2025 Sep 18;26(18):9116. Exploring the Diagnostic Utility of Tear IgE and Lid Wiper Epitheliopathy in Ocular Allergy Among Individuals with Hay Fever. Thomas R(1)(2)(3), Azizoglu S(1)(2)(3), Suphioglu C(2)(3)(4), Mikhail E(1)(2)(3), Gokhale M(1)(2)(3). (1)School of Medicine (Optometry), Faculty of Health, Deakin University, Waurn Ponds, Geelong, VIC 3216, Australia. (2)NeuroAllergy Research Laboratory (NARL), School of Life and Environmental Sciences, Faculty of Science, Engineering and Built Environment, Deakin University, Waurn Ponds, Geelong, VIC 3216, Australia. (3)Institute for Mental...\n",
      "\n",
      "\n",
      "--- Doc 1134 (dist=64.836) ---\n",
      "1. Medicina (Kaunas). 2025 Sep 18;61(9):1693. Ocular Surface Changes Associated with Neurological Diseases. Zemaitiene R(1), Gorgadze G(2), Mockaitiene L(1). (1)Department of Ophthalmology, Medical Academy, Lithuanian University of Health Sciences, 44037 Kaunas, Lithuania. (2)Faculty of Medicine, Tbilisi State Medical University, Tbilisi 0177, Georgia. Neurological disorders significantly affect ocular surface homeostasis, influencing parameters such as blink rate (BR), tear production, corneal nerve density, and sensitivity. This review summarizes recent findings on ocular surface alterations associated with neurological diseases, including Alzheimer's disease (AD),...\n",
      "\n",
      "\n",
      "--- Doc 1219 (dist=64.836) ---\n",
      "1. Medicina (Kaunas). 2025 Sep 18;61(9):1693. Ocular Surface Changes Associated with Neurological Diseases. Zemaitiene R(1), Gorgadze G(2), Mockaitiene L(1). (1)Department of Ophthalmology, Medical Academy, Lithuanian University of Health Sciences, 44037 Kaunas, Lithuania. (2)Faculty of Medicine, Tbilisi State Medical University, Tbilisi 0177, Georgia. Neurological disorders significantly affect ocular surface homeostasis, influencing parameters such as blink rate (BR), tear production, corneal nerve density, and sensitivity. This review summarizes recent findings on ocular surface alterations associated with neurological diseases, including Alzheimer's disease (AD),...\n",
      "\n",
      "\n",
      "--- Doc 281 (dist=64.940) ---\n",
      "1. Rinsho Shinkeigaku. 2025 Sep 26. Online ahead of print. [iPS cell-based therapy for muscular disorders]. [Article in Japanese] Sakurai H(1). (1)Sakurai-Lab, Department of Clinical Application, Center for iPS Cell Research and Application (CiRA), Kyoto University. Induced pluripotent stem cells (iPSCs) have been used in research for the development of treatments for various intractable diseases due to their unlimited proliferative and multipotent potential. We are aiming to develop novel therapies for intractable muscular diseases using iPS cells by two approaches...\n",
      "\n",
      "\n",
      "--- Doc 910 (dist=64.940) ---\n",
      "1. Rinsho Shinkeigaku. 2025 Sep 26. Online ahead of print. [iPS cell-based therapy for muscular disorders]. [Article in Japanese] Sakurai H(1). (1)Sakurai-Lab, Department of Clinical Application, Center for iPS Cell Research and Application (CiRA), Kyoto University. Induced pluripotent stem cells (iPSCs) have been used in research for the development of treatments for various intractable diseases due to their unlimited proliferative and multipotent potential. We are aiming to develop novel therapies for intractable muscular diseases using iPS cells by two approaches...\n",
      "\n",
      "\n",
      "------------------------------------------------------------------------------------------\n",
      "\n"
     ]
    },
    {
     "name": "stdin",
     "output_type": "stream",
     "text": [
      "🔎 Question:  what is aspirin used for?\n"
     ]
    },
    {
     "name": "stdout",
     "output_type": "stream",
     "text": [
      "\n",
      "Retrieved (doc_index, distance): [(549, 37.2499), (558, 37.2499), (697, 37.2499), (663, 38.0182), (356, 38.2871)]\n",
      "\n",
      "⚠️ No confident extractive answer found. Showing top retrieved snippets for manual inspection:\n",
      "\n",
      "--- Doc 549 (dist=37.250) ---\n",
      "1. Pharmaceuticals (Basel). 2025 Sep 13;18(9):1372. Drugs Versus Microbiota: How Pharmacotherapy Affects Gut and Probiotic Bacteria. Zawistowska-Rojek A(1), Tyski S(1). (1)Department of Pharmaceutical Microbiology and Laboratory Diagnostic, National Medicines Institute, 00-725 Warsaw, Poland. The gut microbiota plays a key role in digestion, nutrient absorption, immune system regulation and metabolite production, significantly impacting human health. The balance of the gut microbiota can be easily disturbed by external factors such as lifestyle, diet and drugs. Some medications-such as metformin used to treat...\n",
      "\n",
      "\n",
      "--- Doc 558 (dist=37.250) ---\n",
      "1. Pharmaceuticals (Basel). 2025 Sep 13;18(9):1372. Drugs Versus Microbiota: How Pharmacotherapy Affects Gut and Probiotic Bacteria. Zawistowska-Rojek A(1), Tyski S(1). (1)Department of Pharmaceutical Microbiology and Laboratory Diagnostic, National Medicines Institute, 00-725 Warsaw, Poland. The gut microbiota plays a key role in digestion, nutrient absorption, immune system regulation and metabolite production, significantly impacting human health. The balance of the gut microbiota can be easily disturbed by external factors such as lifestyle, diet and drugs. Some medications-such as metformin used to treat...\n",
      "\n",
      "\n",
      "--- Doc 697 (dist=37.250) ---\n",
      "1. Pharmaceuticals (Basel). 2025 Sep 13;18(9):1372. Drugs Versus Microbiota: How Pharmacotherapy Affects Gut and Probiotic Bacteria. Zawistowska-Rojek A(1), Tyski S(1). (1)Department of Pharmaceutical Microbiology and Laboratory Diagnostic, National Medicines Institute, 00-725 Warsaw, Poland. The gut microbiota plays a key role in digestion, nutrient absorption, immune system regulation and metabolite production, significantly impacting human health. The balance of the gut microbiota can be easily disturbed by external factors such as lifestyle, diet and drugs. Some medications-such as metformin used to treat...\n",
      "\n",
      "\n",
      "--- Doc 663 (dist=38.018) ---\n",
      "1. Atenolol. Drugs and Lactation Database (LactMed®) [Internet]. Bethesda (MD): National Institute of Child Health and Human Development; 2006–. 2025 Sep 15. Because of atenolol's relatively extensive excretion into breastmilk in the newborn period and its extensive renal excretion, other agents are preferred while nursing a newborn or preterm infant or with high maternal dosages.[1,2] Infants older than 3 months of age appear to be at little risk of adverse effects from atenolol in breastmilk. Timing breastfeeding with respect to...\n",
      "\n",
      "\n",
      "--- Doc 356 (dist=38.287) ---\n",
      "1. Pharmaceuticals (Basel). 2025 Aug 27;18(9):1282. Real-World Prescribing Patterns and Treatment Continuation of Amitriptyline Monotherapy and Aripiprazole Augmentation for Medically Unexplained Oral Symptoms/Syndromes in Japan. Maeda C(1), Suga T(1), Nagamine T(1)(2), Toyofuku A(1). (1)Department of Psychosomatic Dentistry, Graduate School of Medical and Dental Sciences, Institute of Science Tokyo, Bunkyo 113-8510, Japan. (2)Department of Psychiatric Internal Medicine, Sunlight Brain Research Center, Hofu 747-0066, Japan. Background: Medically unexplained oral symptoms/syndromes (MUOS), such as Burning Mouth Syndrome and Persistent Idiopathic Facial Pain, present...\n",
      "\n",
      "\n",
      "------------------------------------------------------------------------------------------\n",
      "\n"
     ]
    },
    {
     "name": "stdin",
     "output_type": "stream",
     "text": [
      "🔎 Question:  What are the common complications of diabetes?”\n"
     ]
    },
    {
     "name": "stdout",
     "output_type": "stream",
     "text": [
      "\n",
      "Retrieved (doc_index, distance): [(546, 37.3448), (549, 38.0465), (558, 38.0465), (697, 38.0465), (1209, 38.1571)]\n",
      "\n",
      "⚠️ No confident extractive answer found. Showing top retrieved snippets for manual inspection:\n",
      "\n",
      "--- Doc 546 (dist=37.345) ---\n",
      "1. Pharmaceutics. 2025 Aug 28;17(9):1125. From Current Therapeutics to Multitarget Ligands: A Review of Diabetes Pharmacological Treatments. Cabré F(1)(2), Centelles JJ(1)(3)(4), Cascante M(1)(3)(4). (1)Department of Biochemistry & Molecular Biomedicine, University of Barcelona, 08028 Barcelona, Spain. (2)Medical Area, Menarini Group, 08918 Badalona, Spain. (3)Institute of Biomedicine of University of Barcelona (IBUB), University of Barcelona (UB), 08028 Barcelona, Spain. (4)CIBER of Hepatic and Digestive Diseases (CIBEREHD), Institute of Health Carlos III (ISCIII), 28029 Madrid, Spain. Diabetes is a chronic and complex pathological...\n",
      "\n",
      "\n",
      "--- Doc 549 (dist=38.046) ---\n",
      "1. Pharmaceuticals (Basel). 2025 Sep 13;18(9):1372. Drugs Versus Microbiota: How Pharmacotherapy Affects Gut and Probiotic Bacteria. Zawistowska-Rojek A(1), Tyski S(1). (1)Department of Pharmaceutical Microbiology and Laboratory Diagnostic, National Medicines Institute, 00-725 Warsaw, Poland. The gut microbiota plays a key role in digestion, nutrient absorption, immune system regulation and metabolite production, significantly impacting human health. The balance of the gut microbiota can be easily disturbed by external factors such as lifestyle, diet and drugs. Some medications-such as metformin used to treat...\n",
      "\n",
      "\n",
      "--- Doc 558 (dist=38.046) ---\n",
      "1. Pharmaceuticals (Basel). 2025 Sep 13;18(9):1372. Drugs Versus Microbiota: How Pharmacotherapy Affects Gut and Probiotic Bacteria. Zawistowska-Rojek A(1), Tyski S(1). (1)Department of Pharmaceutical Microbiology and Laboratory Diagnostic, National Medicines Institute, 00-725 Warsaw, Poland. The gut microbiota plays a key role in digestion, nutrient absorption, immune system regulation and metabolite production, significantly impacting human health. The balance of the gut microbiota can be easily disturbed by external factors such as lifestyle, diet and drugs. Some medications-such as metformin used to treat...\n",
      "\n",
      "\n",
      "--- Doc 697 (dist=38.046) ---\n",
      "1. Pharmaceuticals (Basel). 2025 Sep 13;18(9):1372. Drugs Versus Microbiota: How Pharmacotherapy Affects Gut and Probiotic Bacteria. Zawistowska-Rojek A(1), Tyski S(1). (1)Department of Pharmaceutical Microbiology and Laboratory Diagnostic, National Medicines Institute, 00-725 Warsaw, Poland. The gut microbiota plays a key role in digestion, nutrient absorption, immune system regulation and metabolite production, significantly impacting human health. The balance of the gut microbiota can be easily disturbed by external factors such as lifestyle, diet and drugs. Some medications-such as metformin used to treat...\n",
      "\n",
      "\n",
      "--- Doc 1209 (dist=38.157) ---\n",
      "1. Int J Mol Sci. 2025 Sep 20;26(18):9201. From Early Diagnoses to New Treatments for Liver, Pancreatic, Gastric, and Colorectal Cancers Using Carbon Nanotubes: New Chances Still Underexplored. Alfei S(1), Reggio C(2), Zuccari G(1)(2). (1)Department of Pharmacy (DIFAR), University of Genoa, Viale Cembrano, 4, 16148 Genoa, Italy. (2)Laboratory of Experimental Therapies in Oncology, IRCCS Istituto Giannina Gaslini, Via G. Gaslini 5, 16147 Genoa, Italy. Pancreatic, liver, gastric, colorectal, and rectal cancers (PC, LC, GC, CRC, and RC) are highly lethal...\n",
      "\n",
      "\n",
      "------------------------------------------------------------------------------------------\n",
      "\n"
     ]
    },
    {
     "name": "stdin",
     "output_type": "stream",
     "text": [
      "🔎 Question:  exit\n"
     ]
    },
    {
     "name": "stdout",
     "output_type": "stream",
     "text": [
      "👋 Bye.\n"
     ]
    }
   ],
   "source": [
    "# Notebook 05 (corrected) — PubMedBERT extractive QA with PubMed/BioBERT retrieval (CPU-optimized)\n",
    "# Assumes Notebook 03 produced: all_pubmed_embeddings.pkl OR texts.npy + embeddings.npy and pubmed_faiss.index\n",
    "\n",
    "import os\n",
    "import re\n",
    "import pickle\n",
    "import numpy as np\n",
    "import faiss\n",
    "from sentence_transformers import SentenceTransformer\n",
    "from transformers import AutoTokenizer, AutoModelForQuestionAnswering, pipeline\n",
    "\n",
    "# -------------------------\n",
    "# Config / paths (edit if needed)\n",
    "# -------------------------\n",
    "EMB_PKL = \"all_pubmed_embeddings.pkl\"   # preferred (tuple: texts, embeddings)\n",
    "TEXTS_NPY = \"texts.npy\"                 # alternate\n",
    "EMB_NPY = \"embeddings.npy\"              # alternate\n",
    "FAISS_INDEX = \"pubmed_faiss.index\"\n",
    "\n",
    "# QA model (extractive)\n",
    "QA_MODEL = \"microsoft/BiomedNLP-PubMedBERT-base-uncased-abstract\"  # PubMedBERT (base)\n",
    "# Retrieval embedding model: same family used in Notebook 03\n",
    "RETRIEVER_MODEL = \"dmis-lab/biobert-base-cased-v1.1\"  # SentenceTransformer will wrap it with mean pooling\n",
    "\n",
    "# CPU settings\n",
    "TOP_K = 5                # number of abstracts to retrieve\n",
    "CHUNK_WORDS = 500        # chunk size in words (for long abstracts)\n",
    "MIN_CONFIDENCE = 0.05    # minimum score to accept an answer (tweakable)\n",
    "\n",
    "# -------------------------\n",
    "# 1) Load texts + embeddings (support both formats)\n",
    "# -------------------------\n",
    "if os.path.exists(EMB_PKL):\n",
    "    with open(EMB_PKL, \"rb\") as f:\n",
    "        texts, embeddings = pickle.load(f)\n",
    "    embeddings = np.array(embeddings, dtype=np.float32)\n",
    "elif os.path.exists(TEXTS_NPY) and os.path.exists(EMB_NPY):\n",
    "    texts = np.load(TEXTS_NPY, allow_pickle=True)\n",
    "    embeddings = np.load(EMB_NPY).astype(np.float32)\n",
    "else:\n",
    "    raise FileNotFoundError(\"Could not find embeddings. Provide all_pubmed_embeddings.pkl OR texts.npy + embeddings.npy (run Notebook 03).\")\n",
    "\n",
    "print(f\"✅ Loaded {len(texts)} texts, embeddings shape = {embeddings.shape}\")\n",
    "\n",
    "# -------------------------\n",
    "# 2) Load FAISS index\n",
    "# -------------------------\n",
    "if not os.path.exists(FAISS_INDEX):\n",
    "    raise FileNotFoundError(f\"{FAISS_INDEX} not found. Run Notebook 03 to build the FAISS index.\")\n",
    "\n",
    "index = faiss.read_index(FAISS_INDEX)\n",
    "print(\"✅ FAISS index loaded, ntotal =\", index.ntotal)\n",
    "\n",
    "# -------------------------\n",
    "# 3) Load retriever & QA models (CPU)\n",
    "# -------------------------\n",
    "print(\"Loading retriever embedding model (PubMed/BioBERT) -- this may take a moment...\")\n",
    "retriever = SentenceTransformer(RETRIEVER_MODEL)  # wraps HF model and mean-pools tokens\n",
    "\n",
    "print(\"Loading PubMedBERT QA model (extractive) -- CPU\")\n",
    "qa_tokenizer = AutoTokenizer.from_pretrained(QA_MODEL)\n",
    "qa_model = AutoModelForQuestionAnswering.from_pretrained(QA_MODEL)\n",
    "qa_pipe = pipeline(\"question-answering\", model=qa_model, tokenizer=qa_tokenizer, device=-1)  # CPU\n",
    "\n",
    "print(\"✅ Models loaded.\")\n",
    "\n",
    "# -------------------------\n",
    "# Helpers: cleaning & chunking\n",
    "# -------------------------\n",
    "def clean_abstract(text):\n",
    "    \"\"\"Remove common metadata lines and tidy whitespace.\"\"\"\n",
    "    # Remove DOI, PMID, Author information blocks, copyright lines, common headings\n",
    "    text = re.sub(r\"DOI:\\s*\\S+\", \" \", text, flags=re.IGNORECASE)\n",
    "    text = re.sub(r\"PMID:\\s*\\d+\", \" \", text, flags=re.IGNORECASE)\n",
    "    text = re.sub(r\"Author information:.*\", \" \", text, flags=re.IGNORECASE)\n",
    "    text = re.sub(r\"©.*\", \" \", text)\n",
    "    text = re.sub(r\"\\bDOI\\b.*\", \" \", text, flags=re.IGNORECASE)\n",
    "    # collapse whitespace\n",
    "    text = \" \".join(text.split())\n",
    "    return text.strip()\n",
    "\n",
    "def chunk_text_by_words(text, max_words=CHUNK_WORDS):\n",
    "    \"\"\"Split a long text into word-count chunks, returning list of chunk strings.\"\"\"\n",
    "    words = text.split()\n",
    "    if len(words) <= max_words:\n",
    "        return [\" \".join(words)]\n",
    "    chunks = []\n",
    "    for i in range(0, len(words), max_words):\n",
    "        chunks.append(\" \".join(words[i:i+max_words]))\n",
    "    return chunks\n",
    "\n",
    "# -------------------------\n",
    "# Retrieval + QA pipeline\n",
    "# -------------------------\n",
    "def retrieve_top_k_texts(query, k=TOP_K):\n",
    "    \"\"\"Embed query with same retriever and search FAISS.\"\"\"\n",
    "    q_emb = retriever.encode([query], convert_to_numpy=True).astype(np.float32)\n",
    "    D, I = index.search(q_emb, k)\n",
    "    indices = I[0].tolist()\n",
    "    distances = D[0].tolist()\n",
    "    retrieved = [(idx, distances[i], texts[idx]) for i, idx in enumerate(indices)]\n",
    "    return retrieved\n",
    "\n",
    "def extract_best_answer(query, retrieved_texts):\n",
    "    \"\"\"\n",
    "    Run extractive QA on chunked contexts and return best answer and source info.\n",
    "    retrieved_texts: list of (idx, distance, text)\n",
    "    \"\"\"\n",
    "    best_answer = None\n",
    "    best_score = 0.0\n",
    "    best_source = None\n",
    "\n",
    "    for idx, dist, text in retrieved_texts:\n",
    "        clean = clean_abstract(text)\n",
    "        chunks = chunk_text_by_words(clean, max_words=CHUNK_WORDS)\n",
    "        for chunk in chunks:\n",
    "            try:\n",
    "                res = qa_pipe(question=query, context=chunk)\n",
    "            except Exception:\n",
    "                continue\n",
    "            score = float(res.get(\"score\", 0.0))\n",
    "            ans = res.get(\"answer\", \"\").strip()\n",
    "            # prefer higher score and non-empty answer\n",
    "            if ans and score > best_score:\n",
    "                best_score = score\n",
    "                best_answer = ans\n",
    "                best_source = {\"doc_index\": int(idx), \"distance\": float(dist)}\n",
    "    return best_answer, best_score, best_source\n",
    "\n",
    "# -------------------------\n",
    "# Interactive loop\n",
    "# -------------------------\n",
    "print(\"\\n🎯 PubMed extractive QA ready (CPU). Type a question or 'exit' to quit.\\n\")\n",
    "\n",
    "while True:\n",
    "    query = input(\"🔎 Question: \").strip()\n",
    "    if not query:\n",
    "        continue\n",
    "    if query.lower() in [\"exit\", \"quit\"]:\n",
    "        print(\"👋 Bye.\")\n",
    "        break\n",
    "\n",
    "    retrieved = retrieve_top_k_texts(query, k=TOP_K)\n",
    "    # show which docs were retrieved (optional)\n",
    "    print(\"\\nRetrieved (doc_index, distance):\", [(r[0], round(r[1], 4)) for r in retrieved])\n",
    "\n",
    "    answer, score, src = extract_best_answer(query, retrieved)\n",
    "    if answer and score >= MIN_CONFIDENCE:\n",
    "        print(f\"\\n💡 Answer (score={score:.3f}): {answer}\")\n",
    "        print(\"Source doc index:\", src)\n",
    "    else:\n",
    "        print(\"\\n⚠️ No confident extractive answer found. Showing top retrieved snippets for manual inspection:\")\n",
    "        for i, (idx, dist, txt) in enumerate(retrieved):\n",
    "            snippet = \" \".join(clean_abstract(txt).split()[:80])\n",
    "            print(f\"\\n--- Doc {idx} (dist={dist:.3f}) ---\\n{snippet}...\\n\")\n",
    "    print(\"\\n\" + \"-\"*90 + \"\\n\")\n"
   ]
  },
  {
   "cell_type": "code",
   "execution_count": 1,
   "id": "2e9dd57f-d6c5-4b4f-a8ae-c89457368583",
   "metadata": {},
   "outputs": [
    {
     "name": "stdout",
     "output_type": "stream",
     "text": [
      "✅ Loaded 1500 texts, embeddings shape = (1500, 768)\n",
      "✅ FAISS index loaded, ntotal = 1500\n",
      "Loading google/flan-t5-base ...\n",
      "✅ Model google/flan-t5-base loaded on cpu\n"
     ]
    },
    {
     "name": "stderr",
     "output_type": "stream",
     "text": [
      "No sentence-transformers model found with name dmis-lab/biobert-base-cased-v1.1. Creating a new one with mean pooling.\n"
     ]
    },
    {
     "name": "stdout",
     "output_type": "stream",
     "text": [
      "\n",
      "💡 Answer: to treat type 2 diabetes\n",
      "\n",
      "Retrieved snippets:\n",
      "1. 1. Pharmaceuticals (Basel). 2025 Sep 13;18(9):1372. doi: 10.3390/ph18091372.\n",
      "\n",
      "Drugs Versus Microbiota: How Pharmacotherapy Affects Gut and Probiotic Bacteria.\n",
      "\n",
      "Zawistowska-Rojek A(1), Tyski S(1).\n",
      "\n",
      "Author information:\n",
      "(1)Department of Pharmaceutical Microbiology and Laboratory Diagnostic, National \n",
      "M...\n",
      "2. 1. Pharmaceuticals (Basel). 2025 Sep 13;18(9):1372. doi: 10.3390/ph18091372.\n",
      "\n",
      "Drugs Versus Microbiota: How Pharmacotherapy Affects Gut and Probiotic Bacteria.\n",
      "\n",
      "Zawistowska-Rojek A(1), Tyski S(1).\n",
      "\n",
      "Author information:\n",
      "(1)Department of Pharmaceutical Microbiology and Laboratory Diagnostic, National \n",
      "M...\n",
      "3. 1. Pharmaceuticals (Basel). 2025 Sep 13;18(9):1372. doi: 10.3390/ph18091372.\n",
      "\n",
      "Drugs Versus Microbiota: How Pharmacotherapy Affects Gut and Probiotic Bacteria.\n",
      "\n",
      "Zawistowska-Rojek A(1), Tyski S(1).\n",
      "\n",
      "Author information:\n",
      "(1)Department of Pharmaceutical Microbiology and Laboratory Diagnostic, National \n",
      "M...\n",
      "4. 1. Atenolol.\n",
      "\n",
      "Drugs and Lactation Database (LactMed®) [Internet]. Bethesda (MD): National \n",
      "Institute of Child Health and Human Development; 2006–.\n",
      "2025 Sep 15.\n",
      "\n",
      "Because of atenolol's relatively extensive excretion into breastmilk in the \n",
      "newborn period and its extensive renal excretion, other agents...\n",
      "5. 1. Pharmaceuticals (Basel). 2025 Aug 27;18(9):1282. doi: 10.3390/ph18091282.\n",
      "\n",
      "Real-World Prescribing Patterns and Treatment Continuation of Amitriptyline \n",
      "Monotherapy and Aripiprazole Augmentation for Medically Unexplained Oral \n",
      "Symptoms/Syndromes in Japan.\n",
      "\n",
      "Maeda C(1), Suga T(1), Nagamine T(1)(2), ...\n",
      "* Running on local URL:  http://127.0.0.1:7860\n",
      "* To create a public link, set `share=True` in `launch()`.\n"
     ]
    },
    {
     "data": {
      "text/html": [
       "<div><iframe src=\"http://127.0.0.1:7860/\" width=\"100%\" height=\"500\" allow=\"autoplay; camera; microphone; clipboard-read; clipboard-write;\" frameborder=\"0\" allowfullscreen></iframe></div>"
      ],
      "text/plain": [
       "<IPython.core.display.HTML object>"
      ]
     },
     "metadata": {},
     "output_type": "display_data"
    },
    {
     "data": {
      "text/plain": []
     },
     "execution_count": 1,
     "metadata": {},
     "output_type": "execute_result"
    }
   ],
   "source": [
    "# Notebook 05: Hybrid RAG QA with Flan-T5\n",
    "# ---------------------------------------\n",
    "# Requirements: sentence-transformers, transformers, faiss-cpu, gradio, torch\n",
    "\n",
    "import os\n",
    "import pickle\n",
    "import numpy as np\n",
    "import faiss\n",
    "from transformers import AutoTokenizer, AutoModelForSeq2SeqLM\n",
    "import torch\n",
    "import gradio as gr\n",
    "\n",
    "# ----------------------------\n",
    "# 1️⃣ Load embeddings & texts\n",
    "# ----------------------------\n",
    "embeddings_file = \"all_pubmed_embeddings.pkl\"\n",
    "faiss_index_file = \"pubmed_faiss.index\"\n",
    "\n",
    "if not os.path.exists(embeddings_file) or not os.path.exists(faiss_index_file):\n",
    "    raise FileNotFoundError(\"Embeddings or FAISS index not found. Run Notebook 03 first.\")\n",
    "\n",
    "with open(embeddings_file, \"rb\") as f:\n",
    "    texts, embeddings = pickle.load(f)\n",
    "\n",
    "# Load FAISS index\n",
    "dim = embeddings.shape[1]\n",
    "index = faiss.read_index(faiss_index_file)\n",
    "print(f\"✅ Loaded {len(texts)} texts, embeddings shape = {embeddings.shape}\")\n",
    "print(f\"✅ FAISS index loaded, ntotal = {index.ntotal}\")\n",
    "\n",
    "# ----------------------------\n",
    "# 2️⃣ Load Flan-T5 generative QA model\n",
    "# ----------------------------\n",
    "model_name = \"google/flan-t5-base\"  # can switch to smaller/larger variants\n",
    "print(f\"Loading {model_name} ...\")\n",
    "tokenizer = AutoTokenizer.from_pretrained(model_name)\n",
    "model = AutoModelForSeq2SeqLM.from_pretrained(model_name)\n",
    "device = \"cuda\" if torch.cuda.is_available() else \"cpu\"\n",
    "model = model.to(device)\n",
    "print(f\"✅ Model {model_name} loaded on {device}\")\n",
    "\n",
    "# ----------------------------\n",
    "# 3️⃣ Define retrieval + generative function\n",
    "# ----------------------------\n",
    "def hybrid_rag_qa(query, top_k=5, max_input_chars=3000, max_output_tokens=150):\n",
    "    # Compute query embedding using BioBERT-like embeddings\n",
    "    # Here we reuse MiniLM embedding code or any CPU-friendly BioBERT embedding\n",
    "    from sentence_transformers import SentenceTransformer\n",
    "    embedding_model = SentenceTransformer(\"dmis-lab/biobert-base-cased-v1.1\")\n",
    "    query_emb = embedding_model.encode([query], convert_to_numpy=True).astype(\"float32\")\n",
    "    \n",
    "    # Retrieve top-k docs\n",
    "    D, I = index.search(query_emb, top_k)\n",
    "    retrieved_texts = [texts[i] for i in I[0]]\n",
    "    \n",
    "    # Concatenate retrieved snippets (truncate if too long)\n",
    "    context = \" \".join(retrieved_texts)\n",
    "    context = context[:max_input_chars]  # prevent very long inputs\n",
    "    \n",
    "    # Prepare input for Flan-T5\n",
    "    input_text = f\"Answer the medical question based on the context below:\\n\\nContext: {context}\\n\\nQuestion: {query}\\nAnswer:\"\n",
    "    inputs = tokenizer(input_text, return_tensors=\"pt\", truncation=True, max_length=1024).to(device)\n",
    "    \n",
    "    # Generate answer\n",
    "    outputs = model.generate(\n",
    "        **inputs,\n",
    "        max_new_tokens=max_output_tokens,\n",
    "        do_sample=True,\n",
    "        top_p=0.9,\n",
    "        temperature=0.7\n",
    "    )\n",
    "    answer = tokenizer.decode(outputs[0], skip_special_tokens=True)\n",
    "    \n",
    "    return answer, retrieved_texts\n",
    "\n",
    "# ----------------------------\n",
    "# 4️⃣ Test function\n",
    "# ----------------------------\n",
    "query = \"What is aspirin used for?\"\n",
    "answer, retrieved = hybrid_rag_qa(query)\n",
    "print(f\"\\n💡 Answer: {answer}\")\n",
    "print(\"\\nRetrieved snippets:\")\n",
    "for i, doc in enumerate(retrieved):\n",
    "    print(f\"{i+1}. {doc[:300]}...\")\n",
    "\n",
    "# ----------------------------\n",
    "# 5️⃣ Optional: Gradio Deployment\n",
    "# ----------------------------\n",
    "def gradio_qa(query):\n",
    "    answer, retrieved = hybrid_rag_qa(query)\n",
    "    return answer\n",
    "\n",
    "iface = gr.Interface(fn=gradio_qa, inputs=\"text\", outputs=\"text\", title=\"Medical QA (Hybrid RAG)\")\n",
    "iface.launch()\n"
   ]
  },
  {
   "cell_type": "code",
   "execution_count": null,
   "id": "cab8a65d-4a19-4f3f-997f-ec359c53b954",
   "metadata": {},
   "outputs": [],
   "source": []
  }
 ],
 "metadata": {
  "kernelspec": {
   "display_name": "Python [conda env:base] *",
   "language": "python",
   "name": "conda-base-py"
  },
  "language_info": {
   "codemirror_mode": {
    "name": "ipython",
    "version": 3
   },
   "file_extension": ".py",
   "mimetype": "text/x-python",
   "name": "python",
   "nbconvert_exporter": "python",
   "pygments_lexer": "ipython3",
   "version": "3.13.5"
  }
 },
 "nbformat": 4,
 "nbformat_minor": 5
}
