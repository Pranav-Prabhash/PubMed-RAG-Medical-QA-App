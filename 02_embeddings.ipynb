{
 "cells": [
  {
   "cell_type": "code",
   "execution_count": 1,
   "id": "f8d54416-c5d9-4ae5-9565-06b3ae57a43d",
   "metadata": {},
   "outputs": [
    {
     "name": "stdout",
     "output_type": "stream",
     "text": [
      "🔄 Loading abstracts...\n",
      "✅ Categories loaded: ['diseases', 'symptoms', 'medicines', 'procedures', 'human_systems', 'miscellaneous']\n",
      "📄 Total abstracts collected: 1500\n",
      "🔄 Loading embedding model...\n",
      "🔄 Generating embeddings...\n"
     ]
    },
    {
     "data": {
      "application/vnd.jupyter.widget-view+json": {
       "model_id": "7ad41545442c4f32a8bd7aa7ac443953",
       "version_major": 2,
       "version_minor": 0
      },
      "text/plain": [
       "Batches:   0%|          | 0/47 [00:00<?, ?it/s]"
      ]
     },
     "metadata": {},
     "output_type": "display_data"
    },
    {
     "name": "stdout",
     "output_type": "stream",
     "text": [
      "✅ Embeddings shape: (1500, 384)\n",
      "🎉 Saved embeddings to ./abstracts_by_category/embeddings.pkl\n"
     ]
    }
   ],
   "source": [
    "# Notebook 02: Generate embeddings from PubMed abstracts\n",
    "\n",
    "import pickle\n",
    "import os\n",
    "import numpy as np\n",
    "from sentence_transformers import SentenceTransformer\n",
    "\n",
    "# ----------------------------\n",
    "# 1️⃣ Setup\n",
    "# ----------------------------\n",
    "save_folder = \"./abstracts_by_category/\"\n",
    "all_file = os.path.join(save_folder, \"all_pubmed_abstracts.pkl\")\n",
    "\n",
    "if not os.path.exists(all_file):\n",
    "    raise FileNotFoundError(\"❌ Could not find abstracts file. Run Notebook 01 first.\")\n",
    "\n",
    "# Load abstracts\n",
    "print(\"🔄 Loading abstracts...\")\n",
    "with open(all_file, \"rb\") as f:\n",
    "    all_abstracts = pickle.load(f)\n",
    "\n",
    "print(f\"✅ Categories loaded: {list(all_abstracts.keys())}\")\n",
    "\n",
    "# ----------------------------\n",
    "# 2️⃣ Flatten abstracts\n",
    "# ----------------------------\n",
    "abstracts = []\n",
    "terms = []\n",
    "\n",
    "for category, term_dict in all_abstracts.items():\n",
    "    for term, abs_list in term_dict.items():\n",
    "        for abs_text in abs_list:\n",
    "            if abs_text.strip():  # skip empty\n",
    "                abstracts.append(abs_text)\n",
    "                terms.append(term)\n",
    "\n",
    "print(f\"📄 Total abstracts collected: {len(abstracts)}\")\n",
    "\n",
    "# ----------------------------\n",
    "# 3️⃣ Generate embeddings\n",
    "# ----------------------------\n",
    "print(\"🔄 Loading embedding model...\")\n",
    "model = SentenceTransformer(\"sentence-transformers/all-MiniLM-L6-v2\")\n",
    "\n",
    "print(\"🔄 Generating embeddings...\")\n",
    "embeddings = model.encode(abstracts, show_progress_bar=True, convert_to_numpy=True)\n",
    "\n",
    "print(f\"✅ Embeddings shape: {embeddings.shape}\")\n",
    "\n",
    "# ----------------------------\n",
    "# 4️⃣ Save embeddings & abstracts\n",
    "# ----------------------------\n",
    "embedding_file = os.path.join(save_folder, \"embeddings.pkl\")\n",
    "with open(embedding_file, \"wb\") as f:\n",
    "    pickle.dump((abstracts, embeddings, terms), f)\n",
    "\n",
    "print(f\"🎉 Saved embeddings to {embedding_file}\")\n"
   ]
  },
  {
   "cell_type": "code",
   "execution_count": null,
   "id": "ff65142a-1a4b-49db-b79f-b22e38c70664",
   "metadata": {},
   "outputs": [],
   "source": []
  }
 ],
 "metadata": {
  "kernelspec": {
   "display_name": "Python [conda env:base] *",
   "language": "python",
   "name": "conda-base-py"
  },
  "language_info": {
   "codemirror_mode": {
    "name": "ipython",
    "version": 3
   },
   "file_extension": ".py",
   "mimetype": "text/x-python",
   "name": "python",
   "nbconvert_exporter": "python",
   "pygments_lexer": "ipython3",
   "version": "3.13.5"
  }
 },
 "nbformat": 4,
 "nbformat_minor": 5
}
