{
 "cells": [
  {
   "cell_type": "code",
   "execution_count": 5,
   "id": "daef3ced-7eb4-4ceb-9646-1da98e8228d8",
   "metadata": {},
   "outputs": [
    {
     "name": "stdout",
     "output_type": "stream",
     "text": [
      "✅ Loaded 1500 texts, embeddings shape = (1500, 384)\n",
      "✅ FAISS index loaded, ntotal = 1500\n",
      "\n",
      "🎯 Notebook 04 setup complete. You can now proceed to Notebook 05 for model loading and query.\n"
     ]
    }
   ],
   "source": [
    "# ===============================\n",
    "# Notebook 04: Load texts, embeddings, and FAISS index (corrected for your setup)\n",
    "# ===============================\n",
    "\n",
    "import pickle\n",
    "import numpy as np\n",
    "import faiss\n",
    "import os\n",
    "\n",
    "# ------------------------------\n",
    "# Step 1: Load texts and embeddings\n",
    "# ------------------------------\n",
    "EMB_PKL = \"all_pubmed_embeddings.pkl\"  # From Notebook 03\n",
    "FAISS_INDEX = \"pubmed_faiss.index\"\n",
    "\n",
    "if not os.path.exists(EMB_PKL):\n",
    "    raise FileNotFoundError(f\"{EMB_PKL} not found. Run Notebook 03 to generate embeddings.\")\n",
    "\n",
    "# Load both texts and embeddings (they were saved as a tuple)\n",
    "with open(EMB_PKL, \"rb\") as f:\n",
    "    data = pickle.load(f)\n",
    "\n",
    "texts, embeddings = data  # unpack tuple\n",
    "embeddings = np.array(embeddings, dtype=np.float32)  # ensure correct dtype\n",
    "\n",
    "print(f\"✅ Loaded {len(texts)} texts, embeddings shape = {embeddings.shape}\")\n",
    "\n",
    "# ------------------------------\n",
    "# Step 2: Load FAISS index\n",
    "# ------------------------------\n",
    "if not os.path.exists(FAISS_INDEX):\n",
    "    raise FileNotFoundError(f\"{FAISS_INDEX} not found. Make sure Notebook 03 built the FAISS index.\")\n",
    "\n",
    "index = faiss.read_index(FAISS_INDEX)\n",
    "print(\"✅ FAISS index loaded, ntotal =\", index.ntotal)\n",
    "\n",
    "# ------------------------------\n",
    "# Step 3: Ready for model (Notebook 05)\n",
    "# ------------------------------\n",
    "print(\"\\n🎯 Notebook 04 setup complete. You can now proceed to Notebook 05 for model loading and query.\")\n"
   ]
  },
  {
   "cell_type": "code",
   "execution_count": null,
   "id": "cbb0cbaf-f890-412a-9862-ac0c9b5b7e2e",
   "metadata": {},
   "outputs": [],
   "source": []
  }
 ],
 "metadata": {
  "kernelspec": {
   "display_name": "Python [conda env:base] *",
   "language": "python",
   "name": "conda-base-py"
  },
  "language_info": {
   "codemirror_mode": {
    "name": "ipython",
    "version": 3
   },
   "file_extension": ".py",
   "mimetype": "text/x-python",
   "name": "python",
   "nbconvert_exporter": "python",
   "pygments_lexer": "ipython3",
   "version": "3.13.5"
  }
 },
 "nbformat": 4,
 "nbformat_minor": 5
}
